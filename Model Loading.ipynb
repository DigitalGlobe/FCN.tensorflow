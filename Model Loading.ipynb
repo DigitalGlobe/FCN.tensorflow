{
 "cells": [
  {
   "cell_type": "code",
   "execution_count": 2,
   "metadata": {
    "collapsed": true
   },
   "outputs": [],
   "source": [
    "import gdal\n",
    "import datetime\n",
    "import os\n",
    "import random\n",
    "import sys\n",
    "import tarfile\n",
    "import zipfile\n",
    "from glob import glob\n",
    "from os.path import join, splitext, exists\n",
    "\n",
    "import numpy as np\n",
    "import requests\n",
    "import scipy.io\n",
    "import tensorflow as tf\n",
    "from scipy.misc import imread, imsave, imresize\n",
    "from tensorflow.python.platform import gfile\n",
    "\n",
    "import matplotlib.pylab as plt\n",
    "%matplotlib inline"
   ]
  },
  {
   "cell_type": "code",
   "execution_count": 17,
   "metadata": {
    "collapsed": true
   },
   "outputs": [],
   "source": [
    "\n",
    "class BatchDataset:\n",
    "    files = []\n",
    "    images = []\n",
    "    annotations = []\n",
    "    image_options = {}\n",
    "    batch_offset = 0\n",
    "    epochs_completed = 0\n",
    "\n",
    "    def __init__(self, directory, ext, resize, size, mask_ext='png', filename=None):\n",
    "        \"\"\"\n",
    "        Initialize a generic file reader with batching for list of files\n",
    "        :param mask_ext:\n",
    "        :param ext:\n",
    "        :param directory:\n",
    "        sample record: {'image': f, 'annotation': annotation_file, 'filename': filename}\n",
    "        Available options:\n",
    "        resize = True/ False\n",
    "        resize_size = #size of output image - does bilinear resize\n",
    "        color=True/False\n",
    "        \"\"\"\n",
    "        records = []\n",
    "        if gfile.Exists(join(directory, filename)):\n",
    "            with open(join(directory, filename)) as f:\n",
    "                file_list = [join(directory, IMAGES, image) for image in f.read().split()]\n",
    "        else:\n",
    "            file_list = glob(join(directory, IMAGES, '*.{}'.format(ext)))\n",
    "\n",
    "        if not file_list:\n",
    "            print('No files found')\n",
    "            raise FileNotFoundError()\n",
    "        else:\n",
    "            for f in file_list:\n",
    "                filename = splitext(f.split(\"/\")[-1])[0]\n",
    "                mask_file = join(directory, ANNOTATIONS, filename + '.' + mask_ext)\n",
    "                if exists(mask_file):\n",
    "                    records.append(Record(f, mask_file))\n",
    "                else:\n",
    "                    print(\"Annotation file not found for %s - Skipping\" % filename)\n",
    "\n",
    "        random.shuffle(records)\n",
    "        self.records = records\n",
    "        print('No. of %s files: %d' % (directory, (len(records))))\n",
    "\n",
    "        self.resize = resize\n",
    "        self.size = size\n",
    "        print(\"Initializing Batch Dataset Reader...\")\n",
    "        # todo TIF reading and manipulation\n",
    "        if ext == 'tif':\n",
    "            self.images = np.array([self.transform_tif(record.image) for record in records])\n",
    "        else:\n",
    "            self.images = np.array([self.transform(imread(record.image)) for record in records])\n",
    "        self.annotations = np.array(\n",
    "            [np.expand_dims(self.transform_mask(imread(record.mask)), axis=3) for record in records])\n",
    "        self.batch_offset = 0\n",
    "        print(self.images.shape)\n",
    "        print(self.annotations.shape)\n",
    "\n",
    "    def transform(self, image, mask=False):\n",
    "        if self.resize:\n",
    "            image = np.array(imresize(image, [self.size, self.size], interp='nearest'))\n",
    "\n",
    "        if not mask and len(image.shape) < 3:  # make sure images are of shape(h,w,3)\n",
    "            image = np.array([image] * IMG_CHANNELS)\n",
    "        elif not mask and image.shape[-1] < IMG_CHANNELS:  # make sure images are of shape(h,w,3)\n",
    "            image = np.dstack([image] * (1 + IMG_CHANNELS // image.shape[-1]))[:, :, :IMG_CHANNELS]\n",
    "\n",
    "        if mask and image.shape[-1] > 1:\n",
    "            # image = np.dot(image[..., :3], [0.299/128, 0.587/128, 0.114/128])\n",
    "            image = (image.sum(axis=-1) > 0).astype(np.int)\n",
    "\n",
    "        return np.array(image)\n",
    "\n",
    "    def transform_mask(self, image):\n",
    "        if self.resize:\n",
    "            image = np.array(imresize(image, [self.size, self.size], interp='nearest'))\n",
    "\n",
    "        if len(image.shape) > 2 and image.shape[-1] > 1:\n",
    "            # image = np.dot(image[..., :3], [0.299/128, 0.587/128, 0.114/128])\n",
    "            image = (image.sum(axis=-1) > 0).astype(np.int)\n",
    "        image = (image > 0).astype(np.int)\n",
    "\n",
    "        return np.array(image)\n",
    "\n",
    "    def next_batch(self, batch_size):\n",
    "        start = self.batch_offset\n",
    "        self.batch_offset += batch_size\n",
    "        if self.batch_offset > self.images.shape[0]:\n",
    "            # Finished epoch\n",
    "            self.epochs_completed += 1\n",
    "            print(\"****************** Epochs completed: \" + str(self.epochs_completed) + \"******************\")\n",
    "            # Shuffle the data\n",
    "            perm = np.arange(self.images.shape[0])\n",
    "            np.random.shuffle(perm)\n",
    "            self.images = self.images[perm]\n",
    "            self.annotations = self.annotations[perm]\n",
    "            # Start next epoch\n",
    "            start = 0\n",
    "            self.batch_offset = batch_size\n",
    "\n",
    "        end = self.batch_offset\n",
    "        return self.images[start:end], self.annotations[start:end]\n",
    "\n",
    "    def get_random_batch(self, batch_size):\n",
    "        indexes = np.random.randint(0, self.images.shape[0], size=[batch_size]).tolist()\n",
    "        return self.images[indexes], self.annotations[indexes], [self.records[index] for index in indexes]\n",
    "\n",
    "    def transform_tif(self, image):\n",
    "        i = gdal.Open(image, gdal.GA_ReadOnly).ReadAsArray()\n",
    "        if self.resize:\n",
    "            new_image = []\n",
    "            for layer in i:\n",
    "                new_layer = np.array(imresize(layer, [self.size, self.size], interp='nearest'))\n",
    "                new_image.append(new_layer)\n",
    "            i = np.array(new_image).transpose([1, 2, 0])\n",
    "        return i\n",
    "\n",
    "class Record:\n",
    "    def __init__(self, image, mask):\n",
    "        print(image, mask)\n",
    "        self.image = image\n",
    "        self.mask = mask\n",
    "\n"
   ]
  },
  {
   "cell_type": "code",
   "execution_count": 19,
   "metadata": {
    "collapsed": true
   },
   "outputs": [],
   "source": [
    "FLAGS = tf.flags.FLAGS\n",
    "tf.flags.DEFINE_integer(\"batch_size\", \"2\", \"batch size for training\")\n",
    "tf.flags.DEFINE_string(\"logs_dir\", \"logs/\", \"path to logs directory\")\n",
    "tf.flags.DEFINE_string(\"data_dir\", \"powerplant/\", \"path to dataset\")\n",
    "tf.flags.DEFINE_string(\"train_dir\", \"\", \"path to dataset\")\n",
    "tf.flags.DEFINE_string(\"val_dir\", \"\", \"path to dataset\")\n",
    "tf.flags.DEFINE_float(\"learning_rate\", \"1e-4\", \"Learning rate for Adam Optimizer\")\n",
    "tf.flags.DEFINE_string(\"model_dir\", \"Model_zoo/\", \"Path to vgg model mat\")\n",
    "tf.flags.DEFINE_bool('debug', \"True\", \"Debug mode: True/ False\")\n",
    "tf.flags.DEFINE_string('mode', \"train\", \"Mode train/ test/ visualize\")\n",
    "tf.flags.DEFINE_integer('channels', \"8\", \"number of channels in image\")\n",
    "\n",
    "\n",
    "MAX_ITERATION = int(1e5 + 1)\n",
    "NUM_OF_CLASSES = 2\n",
    "IMAGE_SIZE = 100\n",
    "IMG_CHANNELS = FLAGS.channels\n",
    "\n",
    "\n",
    "ANNOTATIONS = 'masks'  # \"annotations\"\n",
    "IMAGES = \"images\"\n"
   ]
  },
  {
   "cell_type": "code",
   "execution_count": 26,
   "metadata": {},
   "outputs": [
    {
     "name": "stdout",
     "output_type": "stream",
     "text": [
      "Setting up dataset reader\n",
      "powerplant/images/0069636f-dc77-4a55-833d-00338760a483.tif powerplant/masks/0069636f-dc77-4a55-833d-00338760a483.png\n",
      "powerplant/images/0117c134-d8a4-4e01-b3bf-b0e32c46d6ac.tif powerplant/masks/0117c134-d8a4-4e01-b3bf-b0e32c46d6ac.png\n",
      "powerplant/images/040fb78b-7e3e-4672-94f0-25537b4aa74d.tif powerplant/masks/040fb78b-7e3e-4672-94f0-25537b4aa74d.png\n",
      "powerplant/images/04c63991-75f8-4a9c-a071-8988934e21e9.tif powerplant/masks/04c63991-75f8-4a9c-a071-8988934e21e9.png\n",
      "powerplant/images/071ab7b5-392d-4a9e-8ce1-c133a6e23f32.tif powerplant/masks/071ab7b5-392d-4a9e-8ce1-c133a6e23f32.png\n",
      "powerplant/images/0872af2a-1d03-4217-88bc-786b94def45e.tif powerplant/masks/0872af2a-1d03-4217-88bc-786b94def45e.png\n",
      "powerplant/images/094d10c1-ec2d-45ca-ab2a-979db09c2176.tif powerplant/masks/094d10c1-ec2d-45ca-ab2a-979db09c2176.png\n",
      "powerplant/images/096387b5-f3a3-4891-9c0c-c593efcf2160.tif powerplant/masks/096387b5-f3a3-4891-9c0c-c593efcf2160.png\n",
      "powerplant/images/09d143fc-d08b-416f-8a36-83390939bc36.tif powerplant/masks/09d143fc-d08b-416f-8a36-83390939bc36.png\n",
      "powerplant/images/10df7e78-d34e-4e5f-a6b0-43a237ba3fa6.tif powerplant/masks/10df7e78-d34e-4e5f-a6b0-43a237ba3fa6.png\n",
      "powerplant/images/12164286-f9af-475e-810f-a337951f8820.tif powerplant/masks/12164286-f9af-475e-810f-a337951f8820.png\n",
      "powerplant/images/1316fe0b-f9af-494e-b41a-3a2c282bf56c.tif powerplant/masks/1316fe0b-f9af-494e-b41a-3a2c282bf56c.png\n",
      "powerplant/images/135110e6-5265-4718-8a53-31476e2355a4.tif powerplant/masks/135110e6-5265-4718-8a53-31476e2355a4.png\n",
      "powerplant/images/13e0a58f-48fc-4322-bec6-a387d83d80f9.tif powerplant/masks/13e0a58f-48fc-4322-bec6-a387d83d80f9.png\n",
      "powerplant/images/156406eb-4495-4e96-876a-87a348a5869d.tif powerplant/masks/156406eb-4495-4e96-876a-87a348a5869d.png\n",
      "powerplant/images/156c9d43-1437-42fb-868f-a4f6c7835159.tif powerplant/masks/156c9d43-1437-42fb-868f-a4f6c7835159.png\n",
      "powerplant/images/19450bd4-7fbe-4ec8-9fb7-ff4775209e4d.tif powerplant/masks/19450bd4-7fbe-4ec8-9fb7-ff4775209e4d.png\n",
      "powerplant/images/211b77ed-de4a-4a5e-a24a-013b3a230236.tif powerplant/masks/211b77ed-de4a-4a5e-a24a-013b3a230236.png\n",
      "powerplant/images/21920161-ab3b-4964-abe8-4b0e45a0e3b4.tif powerplant/masks/21920161-ab3b-4964-abe8-4b0e45a0e3b4.png\n",
      "powerplant/images/223328fc-4dba-4861-8f1c-7d7da8297760.tif powerplant/masks/223328fc-4dba-4861-8f1c-7d7da8297760.png\n",
      "No. of powerplant/ files: 20\n",
      "Initializing Batch Dataset Reader...\n",
      "(20, 100, 100, 8)\n",
      "(20, 100, 100, 1)\n"
     ]
    }
   ],
   "source": [
    "\n",
    "\n",
    "print(\"Setting up dataset reader\")\n",
    "if not FLAGS.val_dir or not FLAGS.train_dir:\n",
    "    train_dir = val_dir = FLAGS.data_dir\n",
    "    train_batch = \"train.txt\"\n",
    "    val_batch = \"val.txt\"\n",
    "else:\n",
    "    val_dir = FLAGS.val_dir\n",
    "    train_dir = FLAGS.train_dir\n",
    "    train_batch = val_batch = None\n",
    "\n",
    "validation_dataset = BatchDataset(val_dir, 'tif', True, IMAGE_SIZE, filename=val_batch)\n"
   ]
  },
  {
   "cell_type": "code",
   "execution_count": 3,
   "metadata": {},
   "outputs": [],
   "source": [
    "saver = tf.train.import_meta_graph('./logs/model.ckpt-93.meta')\n",
    "\n",
    "sess = tf.Session()\n",
    "\n",
    "saver.restore(sess, 'logs/model.ckpt-93')\n",
    "\n",
    "graph = tf.get_default_graph()"
   ]
  },
  {
   "cell_type": "code",
   "execution_count": 74,
   "metadata": {
    "collapsed": true
   },
   "outputs": [],
   "source": [
    "valid_images, valid_annotations, recs = validation_dataset.get_random_batch(64)"
   ]
  },
  {
   "cell_type": "code",
   "execution_count": 75,
   "metadata": {},
   "outputs": [
    {
     "name": "stdout",
     "output_type": "stream",
     "text": [
      "CPU times: user 1min 5s, sys: 2.87 s, total: 1min 7s\n",
      "Wall time: 10.4 s\n"
     ]
    }
   ],
   "source": [
    "%%time\n",
    "pred = sess.run('inference/prediction:0', feed_dict={'input_image:0':valid_images,'keep_probability:0':1.0}) #image_placeholder: valid_images, annotation: valid_annotations, keep_probability: 1.0})"
   ]
  },
  {
   "cell_type": "code",
   "execution_count": 79,
   "metadata": {},
   "outputs": [
    {
     "data": {
      "text/plain": [
       "<matplotlib.image.AxesImage at 0x12d16bcf8>"
      ]
     },
     "execution_count": 79,
     "metadata": {},
     "output_type": "execute_result"
    },
    {
     "data": {
      "image/png": "[encoded data removed]",
      "text/plain": [
       "<matplotlib.figure.Figure at 0x12d0d4160>"
      ]
     },
     "metadata": {},
     "output_type": "display_data"
    }
   ],
   "source": [
    "plt.imshow(pred[0])"
   ]
  },
  {
   "cell_type": "code",
   "execution_count": 78,
   "metadata": {},
   "outputs": [
    {
     "data": {
      "text/plain": [
       "<matplotlib.image.AxesImage at 0x12d088ba8>"
      ]
     },
     "execution_count": 78,
     "metadata": {},
     "output_type": "execute_result"
    },
    {
     "data": {
      "image/png": "[encoded data removed]",
      "text/plain": [
       "<matplotlib.figure.Figure at 0x12cfc0470>"
      ]
     },
     "metadata": {},
     "output_type": "display_data"
    }
   ],
   "source": [
    "plt.imshow(pred[1])"
   ]
  },
  {
   "cell_type": "code",
   "execution_count": null,
   "metadata": {
    "collapsed": true
   },
   "outputs": [],
   "source": []
  }
 ],
 "metadata": {
  "kernelspec": {
   "display_name": "Python 3",
   "language": "python",
   "name": "python3"
  },
  "language_info": {
   "codemirror_mode": {
    "name": "ipython",
    "version": 3
   },
   "file_extension": ".py",
   "mimetype": "text/x-python",
   "name": "python",
   "nbconvert_exporter": "python",
   "pygments_lexer": "ipython3",
   "version": "3.6.1"
  }
 },
 "nbformat": 4,
 "nbformat_minor": 2
}
